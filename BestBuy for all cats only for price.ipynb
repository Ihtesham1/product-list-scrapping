{
 "cells": [
  {
   "cell_type": "code",
   "execution_count": null,
   "metadata": {},
   "outputs": [],
   "source": [
    "import requests\n",
    "import json\n",
    "import pandas as pd\n",
    "\n",
    "allData = []\n",
    "list = pd.DataFrame(columns = ['SalePrize'])\n",
    "\n",
    "def getData(id):\n",
    "    newId = str(id)\n",
    "    URL = \"https://api.bestbuy.com/v1/products((categoryPath.id=\"+newId+\"))?apiKey=zuKN5cDvqHGmtnzEm86cff3f&sort=modelNumber.asc&show=modelNumber,name,salePrice,regularPrice,sku,image,mobileUrl&pageSize=30&format=json\"\n",
    "    r = requests.get(url = URL)\n",
    "    data = r.json()\n",
    "    prod = data[\"products\"]\n",
    "    totalPages = data['totalPages']\n",
    "    i = 1\n",
    "    while i<totalPages:\n",
    "        newPage = str(i)\n",
    "        print(\"page num: \",newPage)\n",
    "        URL = \"https://api.bestbuy.com/v1/products((categoryPath.id=\"+newId+\"))?apiKey=zuKN5cDvqHGmtnzEm86cff3f&sort=modelNumber.asc&show=modelNumber,name,salePrice,regularPrice,sku,image,mobileUrl&pageSize=30&page=\"+newPage+\"&format=json\"\n",
    "        r = requests.get(url = URL)\n",
    "        data = r.json()\n",
    "        prod = data[\"products\"]\n",
    "        allData.append(prod)\n",
    "        num = len(prod)\n",
    "        n = 0\n",
    "        while n<num:\n",
    "            currentDict = prod[n]\n",
    "            ModelNumber = currentDict[\"modelNumber\"]\n",
    "            Name = currentDict[\"name\"]\n",
    "            SKU = currentDict[\"sku\"]\n",
    "            ImageURL = currentDict[\"image\"]\n",
    "            SalePrize = currentDict[\"salePrice\"]\n",
    "            RegularPrize = currentDict[\"regularPrice\"]\n",
    "            ProductURL = currentDict[\"mobileUrl\"]\n",
    "            \n",
    "            \n",
    "            list.loc[len(list)] = [ModelNumber,Name,SKU,ImageURL,SalePrize,RegularPrize,ProductURL]\n",
    "            \n",
    "            n += 1\n",
    "        \n",
    "        \n",
    "        i += 1"
   ]
  }
 ],
 "metadata": {
  "kernelspec": {
   "display_name": "Python 3",
   "language": "python",
   "name": "python3"
  },
  "language_info": {
   "codemirror_mode": {
    "name": "ipython",
    "version": 3
   },
   "file_extension": ".py",
   "mimetype": "text/x-python",
   "name": "python",
   "nbconvert_exporter": "python",
   "pygments_lexer": "ipython3",
   "version": "3.7.4"
  }
 },
 "nbformat": 4,
 "nbformat_minor": 2
}
