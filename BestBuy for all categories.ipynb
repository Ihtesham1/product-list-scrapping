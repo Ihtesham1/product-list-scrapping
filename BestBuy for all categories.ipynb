{
 "cells": [
  {
   "cell_type": "code",
   "execution_count": 2,
   "metadata": {},
   "outputs": [
    {
     "name": "stdout",
     "output_type": "stream",
     "text": [
      "Main:  https://www.bestbuy.com/site/shop/tc/tv-home-theater/abcat0100000\n",
      "https://www.bestbuy.com/site/shop/pc/all-flat-screen-tvs/abcat0101001\n",
      "https://www.bestbuy.com/site/shop/pc/blu-ray-players/abcat0102003\n",
      "https://www.bestbuy.com/site/shop/pc/dvd-players/abcat0102005\n",
      "https://www.bestbuy.com/site/shop/pc/digital-tv-tuners-converters/abcat0104000\n",
      "https://www.bestbuy.com/site/shop/pc/tv-stands/abcat0106001\n",
      "https://www.bestbuy.com/site/shop/pc/tv-mounts/abcat0106004\n",
      "https://www.bestbuy.com/site/shop/pc/a-v-component-racks-shelving/abcat0106008\n",
      "https://www.bestbuy.com/site/shop/pc/portable-cd-dvd-storage/abcat0106011\n",
      "https://www.bestbuy.com/site/shop/pc/media-cabinets/abcat0106015\n",
      "https://www.bestbuy.com/site/shop/pc/tv-antennas/abcat0107004\n",
      "https://www.bestbuy.com/site/shop/pc/a-v-cables-connectors/abcat0107015\n",
      "https://www.bestbuy.com/site/shop/pc/component-video-cables/abcat0107018\n",
      "https://www.bestbuy.com/site/shop/pc/composite-video-cables/abcat0107019\n",
      "https://www.bestbuy.com/site/shop/pc/hdmi-cables/abcat0107020\n",
      "https://www.bestbuy.com/site/shop/pc/tv-media-cleaning-care/abcat0107034\n",
      "https://www.bestbuy.com/site/shop/pc/remote-controls/abcat0107039\n",
      "https://www.bestbuy.com/site/shop/pc/universal-remote-controls/abcat0107040\n",
      "https://www.bestbuy.com/site/shop/pc/a-v-surge-protectors-power/abcat0107045\n",
      "https://www.bestbuy.com/site/shop/pc/surge-protectors/pcmcat1491325600466\n",
      "https://www.bestbuy.com/site/shop/pc/power-conditioners/pcmcat1491325738208\n",
      "https://www.bestbuy.com/site/shop/pc/power-cords-strips/pcmcat1491325797716\n",
      "https://www.bestbuy.com/site/shop/pc/tv-stands-with-cabinets/pcmcat1521490874043\n",
      "https://www.bestbuy.com/site/shop/pc/projectors/pcmcat158900050018\n",
      "https://www.bestbuy.com/site/shop/pc/projector-screens/pcmcat158900050019\n",
      "https://www.bestbuy.com/site/shop/pc/streaming-media-players/pcmcat161100050040\n",
      "https://www.bestbuy.com/site/shop/pc/cable-management-concealment/pcmcat166600050000\n",
      "https://www.bestbuy.com/site/shop/pc/home-theater-networking/pcmcat175600050011\n",
      "https://www.bestbuy.com/site/shop/pc/digital-audio-cables/pcmcat175600050012\n",
      "https://www.bestbuy.com/site/shop/pc/fiber-optic-cables/pcmcat175600050013\n",
      "https://www.bestbuy.com/site/shop/pc/a-v-switchers/pcmcat175600050016\n",
      "https://www.bestbuy.com/site/shop/pc/splitters-couplers-adapters/pcmcat175600050017\n",
      "https://www.bestbuy.com/site/shop/pc/speaker-cables/pcmcat175600050018\n",
      "https://www.bestbuy.com/site/shop/pc/subwoofer-cables/pcmcat175600050019\n",
      "https://www.bestbuy.com/site/shop/pc/a-v-splitters/pcmcat175600050020\n",
      "https://www.bestbuy.com/site/shop/pc/a-v-couplers/pcmcat175600050021\n",
      "https://www.bestbuy.com/site/shop/pc/a-v-adapters/pcmcat175600050022\n",
      "https://www.bestbuy.com/site/shop/pc/portable-dvd-players/pcmcat219900050000\n",
      "https://www.bestbuy.com/site/shop/pc/remote-control-accessories/pcmcat224000050003\n",
      "https://www.bestbuy.com/site/shop/pc/projector-mounts/pcmcat242800050002\n",
      "https://www.bestbuy.com/site/shop/pc/projector-remotes-accessories/pcmcat267900050007\n",
      "https://www.bestbuy.com/site/shop/pc/cooling-ventilation/pcmcat269700050013\n",
      "https://www.bestbuy.com/site/shop/pc/tv-mount-accessories/pcmcat275900050017\n",
      "https://www.bestbuy.com/site/shop/pc/tv-corner-stands/pcmcat332100050001\n",
      "https://www.bestbuy.com/site/shop/pc/tv-stands-with-flat-panel-mounts/pcmcat332100050002\n",
      "https://www.bestbuy.com/site/shop/pc/fireplace-tv-stands/pcmcat332100050003\n",
      "https://www.bestbuy.com/site/shop/pc/outdoor-tv-covers-stands-mounts/pcmcat387800050020\n",
      "https://www.bestbuy.com/site/shop/pc/streaming-media-player-accessories/pcmcat748301694412\n"
     ]
    },
    {
     "ename": "StaleElementReferenceException",
     "evalue": "Message: stale element reference: element is not attached to the page document\n  (Session info: chrome=84.0.4147.125)\n  (Driver info: chromedriver=2.42.591088 (7b2b2dca23cca0862f674758c9a3933e685c27d5),platform=Windows NT 10.0.18363 x86_64)\n",
     "output_type": "error",
     "traceback": [
      "\u001b[1;31m---------------------------------------------------------------------------\u001b[0m",
      "\u001b[1;31mStaleElementReferenceException\u001b[0m            Traceback (most recent call last)",
      "\u001b[1;32m<ipython-input-2-807e6af89e38>\u001b[0m in \u001b[0;36m<module>\u001b[1;34m\u001b[0m\n\u001b[0;32m     13\u001b[0m \u001b[0mfirst_page_list\u001b[0m \u001b[1;33m=\u001b[0m \u001b[0mfirst_page\u001b[0m\u001b[1;33m.\u001b[0m\u001b[0mfind_elements_by_tag_name\u001b[0m\u001b[1;33m(\u001b[0m\u001b[1;34m\"li\"\u001b[0m\u001b[1;33m)\u001b[0m\u001b[1;33m\u001b[0m\u001b[1;33m\u001b[0m\u001b[0m\n\u001b[0;32m     14\u001b[0m \u001b[1;32mfor\u001b[0m \u001b[0mitem\u001b[0m \u001b[1;32min\u001b[0m \u001b[0mfirst_page_list\u001b[0m\u001b[1;33m:\u001b[0m\u001b[1;33m\u001b[0m\u001b[1;33m\u001b[0m\u001b[0m\n\u001b[1;32m---> 15\u001b[1;33m     \u001b[0mtag_a\u001b[0m \u001b[1;33m=\u001b[0m \u001b[0mitem\u001b[0m\u001b[1;33m.\u001b[0m\u001b[0mfind_element_by_tag_name\u001b[0m\u001b[1;33m(\u001b[0m\u001b[1;34m\"a\"\u001b[0m\u001b[1;33m)\u001b[0m\u001b[1;33m\u001b[0m\u001b[1;33m\u001b[0m\u001b[0m\n\u001b[0m\u001b[0;32m     16\u001b[0m     \u001b[0mhref\u001b[0m \u001b[1;33m=\u001b[0m \u001b[0mtag_a\u001b[0m\u001b[1;33m.\u001b[0m\u001b[0mget_attribute\u001b[0m\u001b[1;33m(\u001b[0m\u001b[1;34m'href'\u001b[0m\u001b[1;33m)\u001b[0m\u001b[1;33m\u001b[0m\u001b[1;33m\u001b[0m\u001b[0m\n\u001b[0;32m     17\u001b[0m     \u001b[0mprint\u001b[0m\u001b[1;33m(\u001b[0m\u001b[1;34m\"Main: \"\u001b[0m\u001b[1;33m,\u001b[0m\u001b[0mhref\u001b[0m\u001b[1;33m)\u001b[0m\u001b[1;33m\u001b[0m\u001b[1;33m\u001b[0m\u001b[0m\n",
      "\u001b[1;32mE:\\anaconda\\lib\\site-packages\\selenium\\webdriver\\remote\\webelement.py\u001b[0m in \u001b[0;36mfind_element_by_tag_name\u001b[1;34m(self, name)\u001b[0m\n\u001b[0;32m    303\u001b[0m             \u001b[0melement\u001b[0m \u001b[1;33m=\u001b[0m \u001b[0melement\u001b[0m\u001b[1;33m.\u001b[0m\u001b[0mfind_element_by_tag_name\u001b[0m\u001b[1;33m(\u001b[0m\u001b[1;34m'h1'\u001b[0m\u001b[1;33m)\u001b[0m\u001b[1;33m\u001b[0m\u001b[1;33m\u001b[0m\u001b[0m\n\u001b[0;32m    304\u001b[0m         \"\"\"\n\u001b[1;32m--> 305\u001b[1;33m         \u001b[1;32mreturn\u001b[0m \u001b[0mself\u001b[0m\u001b[1;33m.\u001b[0m\u001b[0mfind_element\u001b[0m\u001b[1;33m(\u001b[0m\u001b[0mby\u001b[0m\u001b[1;33m=\u001b[0m\u001b[0mBy\u001b[0m\u001b[1;33m.\u001b[0m\u001b[0mTAG_NAME\u001b[0m\u001b[1;33m,\u001b[0m \u001b[0mvalue\u001b[0m\u001b[1;33m=\u001b[0m\u001b[0mname\u001b[0m\u001b[1;33m)\u001b[0m\u001b[1;33m\u001b[0m\u001b[1;33m\u001b[0m\u001b[0m\n\u001b[0m\u001b[0;32m    306\u001b[0m \u001b[1;33m\u001b[0m\u001b[0m\n\u001b[0;32m    307\u001b[0m     \u001b[1;32mdef\u001b[0m \u001b[0mfind_elements_by_tag_name\u001b[0m\u001b[1;33m(\u001b[0m\u001b[0mself\u001b[0m\u001b[1;33m,\u001b[0m \u001b[0mname\u001b[0m\u001b[1;33m)\u001b[0m\u001b[1;33m:\u001b[0m\u001b[1;33m\u001b[0m\u001b[1;33m\u001b[0m\u001b[0m\n",
      "\u001b[1;32mE:\\anaconda\\lib\\site-packages\\selenium\\webdriver\\remote\\webelement.py\u001b[0m in \u001b[0;36mfind_element\u001b[1;34m(self, by, value)\u001b[0m\n\u001b[0;32m    657\u001b[0m \u001b[1;33m\u001b[0m\u001b[0m\n\u001b[0;32m    658\u001b[0m         return self._execute(Command.FIND_CHILD_ELEMENT,\n\u001b[1;32m--> 659\u001b[1;33m                              {\"using\": by, \"value\": value})['value']\n\u001b[0m\u001b[0;32m    660\u001b[0m \u001b[1;33m\u001b[0m\u001b[0m\n\u001b[0;32m    661\u001b[0m     \u001b[1;32mdef\u001b[0m \u001b[0mfind_elements\u001b[0m\u001b[1;33m(\u001b[0m\u001b[0mself\u001b[0m\u001b[1;33m,\u001b[0m \u001b[0mby\u001b[0m\u001b[1;33m=\u001b[0m\u001b[0mBy\u001b[0m\u001b[1;33m.\u001b[0m\u001b[0mID\u001b[0m\u001b[1;33m,\u001b[0m \u001b[0mvalue\u001b[0m\u001b[1;33m=\u001b[0m\u001b[1;32mNone\u001b[0m\u001b[1;33m)\u001b[0m\u001b[1;33m:\u001b[0m\u001b[1;33m\u001b[0m\u001b[1;33m\u001b[0m\u001b[0m\n",
      "\u001b[1;32mE:\\anaconda\\lib\\site-packages\\selenium\\webdriver\\remote\\webelement.py\u001b[0m in \u001b[0;36m_execute\u001b[1;34m(self, command, params)\u001b[0m\n\u001b[0;32m    631\u001b[0m             \u001b[0mparams\u001b[0m \u001b[1;33m=\u001b[0m \u001b[1;33m{\u001b[0m\u001b[1;33m}\u001b[0m\u001b[1;33m\u001b[0m\u001b[1;33m\u001b[0m\u001b[0m\n\u001b[0;32m    632\u001b[0m         \u001b[0mparams\u001b[0m\u001b[1;33m[\u001b[0m\u001b[1;34m'id'\u001b[0m\u001b[1;33m]\u001b[0m \u001b[1;33m=\u001b[0m \u001b[0mself\u001b[0m\u001b[1;33m.\u001b[0m\u001b[0m_id\u001b[0m\u001b[1;33m\u001b[0m\u001b[1;33m\u001b[0m\u001b[0m\n\u001b[1;32m--> 633\u001b[1;33m         \u001b[1;32mreturn\u001b[0m \u001b[0mself\u001b[0m\u001b[1;33m.\u001b[0m\u001b[0m_parent\u001b[0m\u001b[1;33m.\u001b[0m\u001b[0mexecute\u001b[0m\u001b[1;33m(\u001b[0m\u001b[0mcommand\u001b[0m\u001b[1;33m,\u001b[0m \u001b[0mparams\u001b[0m\u001b[1;33m)\u001b[0m\u001b[1;33m\u001b[0m\u001b[1;33m\u001b[0m\u001b[0m\n\u001b[0m\u001b[0;32m    634\u001b[0m \u001b[1;33m\u001b[0m\u001b[0m\n\u001b[0;32m    635\u001b[0m     \u001b[1;32mdef\u001b[0m \u001b[0mfind_element\u001b[0m\u001b[1;33m(\u001b[0m\u001b[0mself\u001b[0m\u001b[1;33m,\u001b[0m \u001b[0mby\u001b[0m\u001b[1;33m=\u001b[0m\u001b[0mBy\u001b[0m\u001b[1;33m.\u001b[0m\u001b[0mID\u001b[0m\u001b[1;33m,\u001b[0m \u001b[0mvalue\u001b[0m\u001b[1;33m=\u001b[0m\u001b[1;32mNone\u001b[0m\u001b[1;33m)\u001b[0m\u001b[1;33m:\u001b[0m\u001b[1;33m\u001b[0m\u001b[1;33m\u001b[0m\u001b[0m\n",
      "\u001b[1;32mE:\\anaconda\\lib\\site-packages\\selenium\\webdriver\\remote\\webdriver.py\u001b[0m in \u001b[0;36mexecute\u001b[1;34m(self, driver_command, params)\u001b[0m\n\u001b[0;32m    319\u001b[0m         \u001b[0mresponse\u001b[0m \u001b[1;33m=\u001b[0m \u001b[0mself\u001b[0m\u001b[1;33m.\u001b[0m\u001b[0mcommand_executor\u001b[0m\u001b[1;33m.\u001b[0m\u001b[0mexecute\u001b[0m\u001b[1;33m(\u001b[0m\u001b[0mdriver_command\u001b[0m\u001b[1;33m,\u001b[0m \u001b[0mparams\u001b[0m\u001b[1;33m)\u001b[0m\u001b[1;33m\u001b[0m\u001b[1;33m\u001b[0m\u001b[0m\n\u001b[0;32m    320\u001b[0m         \u001b[1;32mif\u001b[0m \u001b[0mresponse\u001b[0m\u001b[1;33m:\u001b[0m\u001b[1;33m\u001b[0m\u001b[1;33m\u001b[0m\u001b[0m\n\u001b[1;32m--> 321\u001b[1;33m             \u001b[0mself\u001b[0m\u001b[1;33m.\u001b[0m\u001b[0merror_handler\u001b[0m\u001b[1;33m.\u001b[0m\u001b[0mcheck_response\u001b[0m\u001b[1;33m(\u001b[0m\u001b[0mresponse\u001b[0m\u001b[1;33m)\u001b[0m\u001b[1;33m\u001b[0m\u001b[1;33m\u001b[0m\u001b[0m\n\u001b[0m\u001b[0;32m    322\u001b[0m             response['value'] = self._unwrap_value(\n\u001b[0;32m    323\u001b[0m                 response.get('value', None))\n",
      "\u001b[1;32mE:\\anaconda\\lib\\site-packages\\selenium\\webdriver\\remote\\errorhandler.py\u001b[0m in \u001b[0;36mcheck_response\u001b[1;34m(self, response)\u001b[0m\n\u001b[0;32m    240\u001b[0m                 \u001b[0malert_text\u001b[0m \u001b[1;33m=\u001b[0m \u001b[0mvalue\u001b[0m\u001b[1;33m[\u001b[0m\u001b[1;34m'alert'\u001b[0m\u001b[1;33m]\u001b[0m\u001b[1;33m.\u001b[0m\u001b[0mget\u001b[0m\u001b[1;33m(\u001b[0m\u001b[1;34m'text'\u001b[0m\u001b[1;33m)\u001b[0m\u001b[1;33m\u001b[0m\u001b[1;33m\u001b[0m\u001b[0m\n\u001b[0;32m    241\u001b[0m             \u001b[1;32mraise\u001b[0m \u001b[0mexception_class\u001b[0m\u001b[1;33m(\u001b[0m\u001b[0mmessage\u001b[0m\u001b[1;33m,\u001b[0m \u001b[0mscreen\u001b[0m\u001b[1;33m,\u001b[0m \u001b[0mstacktrace\u001b[0m\u001b[1;33m,\u001b[0m \u001b[0malert_text\u001b[0m\u001b[1;33m)\u001b[0m\u001b[1;33m\u001b[0m\u001b[1;33m\u001b[0m\u001b[0m\n\u001b[1;32m--> 242\u001b[1;33m         \u001b[1;32mraise\u001b[0m \u001b[0mexception_class\u001b[0m\u001b[1;33m(\u001b[0m\u001b[0mmessage\u001b[0m\u001b[1;33m,\u001b[0m \u001b[0mscreen\u001b[0m\u001b[1;33m,\u001b[0m \u001b[0mstacktrace\u001b[0m\u001b[1;33m)\u001b[0m\u001b[1;33m\u001b[0m\u001b[1;33m\u001b[0m\u001b[0m\n\u001b[0m\u001b[0;32m    243\u001b[0m \u001b[1;33m\u001b[0m\u001b[0m\n\u001b[0;32m    244\u001b[0m     \u001b[1;32mdef\u001b[0m \u001b[0m_value_or_default\u001b[0m\u001b[1;33m(\u001b[0m\u001b[0mself\u001b[0m\u001b[1;33m,\u001b[0m \u001b[0mobj\u001b[0m\u001b[1;33m,\u001b[0m \u001b[0mkey\u001b[0m\u001b[1;33m,\u001b[0m \u001b[0mdefault\u001b[0m\u001b[1;33m)\u001b[0m\u001b[1;33m:\u001b[0m\u001b[1;33m\u001b[0m\u001b[1;33m\u001b[0m\u001b[0m\n",
      "\u001b[1;31mStaleElementReferenceException\u001b[0m: Message: stale element reference: element is not attached to the page document\n  (Session info: chrome=84.0.4147.125)\n  (Driver info: chromedriver=2.42.591088 (7b2b2dca23cca0862f674758c9a3933e685c27d5),platform=Windows NT 10.0.18363 x86_64)\n"
     ]
    }
   ],
   "source": [
    "from selenium import webdriver \n",
    "from selenium.webdriver.common.keys import Keys\n",
    "from selenium.webdriver.common.by import By\n",
    "from selenium.webdriver.support.ui import WebDriverWait\n",
    "from selenium.webdriver.support import expected_conditions as EC\n",
    "import pandas as pd\n",
    "\n",
    "driver = webdriver.Chrome(executable_path=r'C:\\Users\\Ihtesham\\Downloads\\Compressed\\chromedriver_win32\\chromedriver.exe')\n",
    "\n",
    "driver.get(\"https://www.bestbuy.com/site/shop/category\")\n",
    "\n",
    "first_page = driver.find_element_by_class_name(\"ugc-link-list\")\n",
    "first_page_list = first_page.find_elements_by_tag_name(\"li\")\n",
    "for item in first_page_list:\n",
    "    tag_a = item.find_element_by_tag_name(\"a\")\n",
    "    href = tag_a.get_attribute('href')\n",
    "    print(\"Main: \",href)\n",
    "    driver.get(href)\n",
    "    \n",
    "    second_page = driver.find_element_by_class_name(\"ugc-link-list\")\n",
    "    second_page_list = second_page.find_elements_by_tag_name(\"li\")\n",
    "    for sec_item in second_page_list:\n",
    "        tag_a2 = sec_item.find_element_by_tag_name(\"a\")\n",
    "        href = tag_a2.get_attribute('href')\n",
    "        print(href)\n",
    "        \n"
   ]
  },
  {
   "cell_type": "code",
   "execution_count": 4,
   "metadata": {},
   "outputs": [
    {
     "ename": "SyntaxError",
     "evalue": "invalid syntax (<ipython-input-4-6e7e660a521a>, line 11)",
     "output_type": "error",
     "traceback": [
      "\u001b[1;36m  File \u001b[1;32m\"<ipython-input-4-6e7e660a521a>\"\u001b[1;36m, line \u001b[1;32m11\u001b[0m\n\u001b[1;33m    firstPageList = {href = \"\",\u001b[0m\n\u001b[1;37m                          ^\u001b[0m\n\u001b[1;31mSyntaxError\u001b[0m\u001b[1;31m:\u001b[0m invalid syntax\n"
     ]
    }
   ],
   "source": [
    "from selenium import webdriver \n",
    "from selenium.webdriver.common.keys import Keys\n",
    "from selenium.webdriver.common.by import By\n",
    "from selenium.webdriver.support.ui import WebDriverWait\n",
    "from selenium.webdriver.support import expected_conditions as EC\n",
    "import pandas as pd\n",
    "\n",
    "driver = webdriver.Chrome(executable_path=r'C:\\Users\\Ihtesham\\Downloads\\Compressed\\chromedriver_win32\\chromedriver.exe')\n",
    "\n",
    "driver.get(\"https://www.bestbuy.com/site/shop/category\")\n",
    "firstPageList = {href = \"\",\n",
    "                name = \"\"}\n",
    "\n",
    "first_page = driver.find_element_by_class_name(\"ugc-link-list\")\n",
    "first_page_list = first_page.find_elements_by_tag_name(\"li\")\n",
    "for item in first_page_list:\n",
    "    tag_a = item.find_element_by_tag_name(\"a\")\n",
    "    href = tag_a.get_attribute('href')\n",
    "    name = tag_a.text\n",
    "    print(\"Main: \",href)\n",
    "    firstPageList.append(href, name)\n",
    "    \n",
    "firstPageList\n",
    "        "
   ]
  },
  {
   "cell_type": "code",
   "execution_count": null,
   "metadata": {},
   "outputs": [],
   "source": []
  }
 ],
 "metadata": {
  "kernelspec": {
   "display_name": "Python 3",
   "language": "python",
   "name": "python3"
  },
  "language_info": {
   "codemirror_mode": {
    "name": "ipython",
    "version": 3
   },
   "file_extension": ".py",
   "mimetype": "text/x-python",
   "name": "python",
   "nbconvert_exporter": "python",
   "pygments_lexer": "ipython3",
   "version": "3.7.4"
  }
 },
 "nbformat": 4,
 "nbformat_minor": 2
}
