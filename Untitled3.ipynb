{
 "cells": [
  {
   "cell_type": "code",
   "execution_count": 5,
   "metadata": {},
   "outputs": [],
   "source": [
    "from selenium import webdriver \n",
    "from selenium.webdriver.common.keys import Keys\n",
    "from selenium.webdriver.common.by import By\n",
    "from selenium.webdriver.support.ui import WebDriverWait\n",
    "from selenium.webdriver.support import expected_conditions as EC\n",
    "import pandas as pd\n",
    "\n",
    "driver = webdriver.Chrome(executable_path=r'C:\\Users\\Ihtesham\\Downloads\\Compressed\\chromedriver_win32\\chromedriver.exe')\n",
    "driver.get(\"https://www.costco.com/SiteMapDisplayView\")\n",
    "\n",
    "login_link = driver.find_element_by_id(\"header_sign_in\")\n",
    "new_page = login_link.click()\n",
    "\n",
    "user_name = driver.find_element_by_id(\"logonId\")\n",
    "user = user_name.clear()\n",
    "user_name.send_keys(\"costco@generateintel.com\")\n",
    "    \n",
    "pas = driver.find_element_by_id(\"logonPassword\")\n",
    "pasw = pas.clear()\n",
    "pas.send_keys(\"bQ55&CeGV%pL\")\n",
    "\n",
    "obj = driver.find_element_by_id(\"LogonForm\")\n",
    "form = obj.find_element_by_xpath(\"//fieldset/div[6]/input\")\n",
    "form.click()\n",
    "\n",
    "driver.get(\"https://www.costco.com/SiteMapDisplayView\")"
   ]
  },
  {
   "cell_type": "code",
   "execution_count": null,
   "metadata": {},
   "outputs": [],
   "source": []
  }
 ],
 "metadata": {
  "kernelspec": {
   "display_name": "Python 3",
   "language": "python",
   "name": "python3"
  },
  "language_info": {
   "codemirror_mode": {
    "name": "ipython",
    "version": 3
   },
   "file_extension": ".py",
   "mimetype": "text/x-python",
   "name": "python",
   "nbconvert_exporter": "python",
   "pygments_lexer": "ipython3",
   "version": "3.7.4"
  }
 },
 "nbformat": 4,
 "nbformat_minor": 2
}
