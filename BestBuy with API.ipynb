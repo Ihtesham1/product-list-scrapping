{
 "cells": [
  {
   "cell_type": "code",
   "execution_count": 7,
   "metadata": {},
   "outputs": [],
   "source": [
    "import requests\n",
    "import json\n",
    "\n",
    "allData = []\n",
    "\n",
    "def getData(id):\n",
    "    newId = str(id)\n",
    "    URL = \"https://api.bestbuy.com/v1/products((categoryPath.id=\"+newId+\"))?apiKey=zuKN5cDvqHGmtnzEm86cff3f&sort=modelNumber.asc&show=modelNumber,name,salePrice,regularPrice&pageSize=30&format=json\"\n",
    "    r = requests.get(url = URL)\n",
    "    data = r.json()\n",
    "    prod = data[\"products\"]\n",
    "    totalPages = data['totalPages']\n",
    "    i = 1\n",
    "    while i<totalPages:\n",
    "        newPage = str(i)\n",
    "        print(\"page num: \",newPage)\n",
    "        URL = \"https://api.bestbuy.com/v1/products((categoryPath.id=\"+newId+\"))?apiKey=zuKN5cDvqHGmtnzEm86cff3f&sort=modelNumber.asc&show=modelNumber,name,salePrice,regularPrice&pageSize=30&page=\"+newPage+\"&format=json\"\n",
    "        r = requests.get(url = URL)\n",
    "        data = r.json()\n",
    "        prod = data[\"products\"]\n",
    "        allData.append(prod)\n",
    "        i += 1\n",
    "    \n",
    "    "
   ]
  },
  {
   "cell_type": "code",
   "execution_count": 9,
   "metadata": {},
   "outputs": [
    {
     "name": "stdout",
     "output_type": "stream",
     "text": [
      "page num:  1\n",
      "page num:  2\n",
      "page num:  3\n",
      "page num:  4\n",
      "page num:  5\n",
      "page num:  6\n",
      "page num:  7\n",
      "page num:  8\n",
      "page num:  9\n",
      "page num:  10\n",
      "page num:  11\n",
      "page num:  12\n",
      "page num:  13\n",
      "page num:  14\n",
      "page num:  15\n",
      "page num:  16\n",
      "page num:  17\n",
      "page num:  18\n",
      "page num:  19\n",
      "page num:  20\n",
      "page num:  21\n",
      "page num:  22\n",
      "page num:  23\n",
      "page num:  24\n",
      "page num:  25\n",
      "page num:  26\n",
      "page num:  27\n",
      "page num:  28\n",
      "length:  63\n"
     ]
    }
   ],
   "source": [
    "getData('pcmcat295700050012')\n",
    "print('length: ', len(allData))"
   ]
  },
  {
   "cell_type": "code",
   "execution_count": null,
   "metadata": {},
   "outputs": [],
   "source": []
  }
 ],
 "metadata": {
  "kernelspec": {
   "display_name": "Python 3",
   "language": "python",
   "name": "python3"
  },
  "language_info": {
   "codemirror_mode": {
    "name": "ipython",
    "version": 3
   },
   "file_extension": ".py",
   "mimetype": "text/x-python",
   "name": "python",
   "nbconvert_exporter": "python",
   "pygments_lexer": "ipython3",
   "version": "3.7.4"
  }
 },
 "nbformat": 4,
 "nbformat_minor": 2
}
